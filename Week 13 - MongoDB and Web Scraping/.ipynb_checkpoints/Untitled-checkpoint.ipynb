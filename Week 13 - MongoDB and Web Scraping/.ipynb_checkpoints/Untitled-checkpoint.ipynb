{
 "cells": [
  {
   "cell_type": "code",
   "execution_count": null,
   "metadata": {},
   "outputs": [],
   "source": [
    "import scrape_mars\n",
    "from pymongo import MongoClient\n",
    "from flask import Flask, render_template, redirect\n",
    "\n",
    "app = Flask(__name__)\n",
    "\n",
    "# Put scraped data into MongoDB\n",
    "@app.route(\"/scrape\")\n",
    "def mongoStuff():\n",
    "    # Pymongo stuff\n",
    "    client = MongoClient('localhost', 27017) \n",
    "    db = client['config']\n",
    "    if 'mars' in db.list_collection_names():\n",
    "        db.drop_collection('mars')\n",
    "    collection = db['mars']\n",
    "    # Get dictionary\n",
    "    d = scrape_mars.scrape()\n",
    "    # Insert dictionary into MongoDB\n",
    "    collection.insert_one(d)\n",
    "    return(redirect(\"/\"))\n",
    "\n",
    "@app.route(\"/\")\n",
    "def showHTML():\n",
    "    # Fetch data from MongoDB\n",
    "    client = MongoClient('localhost', 27017)\n",
    "    db = client['config']\n",
    "    collection = db['mars']\n",
    "    data = collection.find_one()\n",
    "    title = data['title']\n",
    "    image_url = data['image_url']\n",
    "    paragraph = data['paragraph']\n",
    "    weather = data['mar_weather']\n",
    "    html_table = data['html_table']\n",
    "    images = data['hemisphere_image_urls']\n",
    "    \n",
    "    return(render_template(\"index.html\", title = title, paragraph = paragraph, image_url = image_url, weather = weather, html_table = html_table, images=images))\n",
    "\n",
    "\n",
    "if __name__ == \"__main__\":\n",
    "    app.run(port = 5000, debug=True)"
   ]
  },
  {
   "cell_type": "code",
   "execution_count": 3,
   "metadata": {},
   "outputs": [
    {
     "ename": "ModuleNotFoundError",
     "evalue": "No module named 'scrape_mars'",
     "output_type": "error",
     "traceback": [
      "\u001b[1;31m---------------------------------------------------------------------------\u001b[0m",
      "\u001b[1;31mModuleNotFoundError\u001b[0m                       Traceback (most recent call last)",
      "\u001b[1;32m<ipython-input-3-057c87381646>\u001b[0m in \u001b[0;36m<module>\u001b[1;34m()\u001b[0m\n\u001b[1;32m----> 1\u001b[1;33m \u001b[1;32mimport\u001b[0m \u001b[0mscrape_mars\u001b[0m\u001b[1;33m.\u001b[0m\u001b[0mipynb\u001b[0m\u001b[1;33m\u001b[0m\u001b[0m\n\u001b[0m\u001b[0;32m      2\u001b[0m \u001b[1;32mfrom\u001b[0m \u001b[0mpymongo\u001b[0m \u001b[1;32mimport\u001b[0m \u001b[0mMongoClient\u001b[0m\u001b[1;33m\u001b[0m\u001b[0m\n\u001b[0;32m      3\u001b[0m \u001b[1;32mfrom\u001b[0m \u001b[0mflask\u001b[0m \u001b[1;32mimport\u001b[0m \u001b[0mFlask\u001b[0m\u001b[1;33m,\u001b[0m \u001b[0mrender_template\u001b[0m\u001b[1;33m,\u001b[0m \u001b[0mredirect\u001b[0m\u001b[1;33m\u001b[0m\u001b[0m\n\u001b[0;32m      4\u001b[0m \u001b[1;33m\u001b[0m\u001b[0m\n\u001b[0;32m      5\u001b[0m \u001b[0mapp\u001b[0m \u001b[1;33m=\u001b[0m \u001b[0mFlask\u001b[0m\u001b[1;33m(\u001b[0m\u001b[0m__name__\u001b[0m\u001b[1;33m)\u001b[0m\u001b[1;33m\u001b[0m\u001b[0m\n",
      "\u001b[1;31mModuleNotFoundError\u001b[0m: No module named 'scrape_mars'"
     ]
    }
   ],
   "source": [
    "import scrape_mars\n",
    "from pymongo import MongoClient\n",
    "from flask import Flask, render_template, redirect\n",
    "\n",
    "app = Flask(__name__)"
   ]
  },
  {
   "cell_type": "code",
   "execution_count": null,
   "metadata": {},
   "outputs": [],
   "source": []
  }
 ],
 "metadata": {
  "kernelspec": {
   "display_name": "Python 3",
   "language": "python",
   "name": "python3"
  },
  "language_info": {
   "codemirror_mode": {
    "name": "ipython",
    "version": 3
   },
   "file_extension": ".py",
   "mimetype": "text/x-python",
   "name": "python",
   "nbconvert_exporter": "python",
   "pygments_lexer": "ipython3",
   "version": "3.6.4"
  }
 },
 "nbformat": 4,
 "nbformat_minor": 2
}
