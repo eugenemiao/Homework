{
 "cells": [
  {
   "cell_type": "markdown",
   "metadata": {},
   "source": [
    "# Mission to Mars"
   ]
  },
  {
   "cell_type": "code",
   "execution_count": 2,
   "metadata": {},
   "outputs": [],
   "source": [
    "from  bs4 import  BeautifulSoup\n",
    "import pandas as pd\n",
    "import requests\n",
    "import re"
   ]
  },
  {
   "cell_type": "code",
   "execution_count": 5,
   "metadata": {},
   "outputs": [],
   "source": [
    "text  =  requests.get('https://mars.nasa.gov/news').text\n",
    "data = re.split(\"<a href='/news/\", text)[1]\n",
    "title = re.split(\"'\", re.split(\"</div>\\n<img alt='\", data)[1])[0]\n",
    "paragraph = re.split(\" \\n</div>\\n<div class='overlay_arrow'>\", re.split(\"<div class='rollover_description_inner'>\\n\", data)[1])[0]\n",
    "if \"&quot;\" in paragraph:\n",
    "    paragraph = re.sub(\"&quot;\", r'\"', paragraph)\n",
    "img = re.split(\"-\", re.split(\"_\", re.split(\"' src=\", re.split(\"/system/news_items/list_view_images/\", data)[1])[0])[1])[0]\n",
    "image_url = f'https://www.jpl.nasa.gov/spaceimages/images/largesize/{img}_hires.jpg'\n",
    "\n",
    "weather = requests.get('https://twitter.com/marswxreport').text\n",
    "\n",
    "mar_weather = 'Sol' + re.split('</p>\\n</div>', weather.split('<p class=\"TweetTextSize TweetTextSize--normal js-tweet-text tweet-text\" lang=\"en\" data-aria-label-part=\"0\">Sol')[1])[0]\n",
    "\n",
    "if \"&quot;\" in mar_weather:\n",
    "    mar_weather = re.sub(\"&quot;\", r'\"', mar_weather)"
   ]
  },
  {
   "cell_type": "code",
   "execution_count": 6,
   "metadata": {},
   "outputs": [],
   "source": [
    "# Get Mars Facts\n",
    "facts = requests.get('https://space-facts.com/mars/').text\n",
    "\n",
    "facts_dict = {}\n",
    "names = ['Equatorial Diameter', 'Polar Diameter', 'Mass', 'Moons', 'Orbit Distance', 'Orbit Period', 'Surface Temperature', 'First Record', 'Recorded By']\n",
    "\n",
    "for name in names:\n",
    "    try:\n",
    "        facts_dict[name] = re.split('<br />', facts.split(name+':</strong></td><td class=\"column-2\">')[1])[0]\n",
    "    except IndexError:\n",
    "        facts_dict[name] = re.split('<br />', facts.split(name+': </strong></td><td class=\"column-2\">')[1])[0]\n",
    "    if '</td>' in facts_dict[name]:\n",
    "        facts_dict[name] = re.split('</td>', facts_dict[name])[0]\n",
    "    if '<a href=' in facts_dict[name]:\n",
    "        facts_dict[name] = BeautifulSoup(facts_dict[name], 'html.parser')\n",
    "        for a in facts_dict[name].findAll('a'):\n",
    "            del a['href']\n",
    "        facts_dict[name] = str(facts_dict[name])\n",
    "    if '<a>' in facts_dict[name]:\n",
    "        facts_dict[name] = facts_dict[name].replace('<a>', '')\n",
    "    if '</a>' in facts_dict[name]:\n",
    "        facts_dict[name] = facts_dict[name].replace('</a>', '')\n",
    "    if '&amp;' in facts_dict[name]:\n",
    "        facts_dict[name] = facts_dict[name].replace('&amp;', '&')"
   ]
  },
  {
   "cell_type": "code",
   "execution_count": 8,
   "metadata": {},
   "outputs": [],
   "source": [
    "df = pd.DataFrame.from_dict(facts_dict, orient='index')\n",
    "df.columns = ['Value']"
   ]
  },
  {
   "cell_type": "code",
   "execution_count": 11,
   "metadata": {},
   "outputs": [],
   "source": [
    "spheres  = ['valles_marineris', 'cerberus', 'schiaparelli', 'syrtis_major']\n",
    "titles = ['Valles Marineris Hemisphere', 'Cerberus Hemisphere', 'Schiaparelli Hemisphere', 'Syrtis Major Hemisphere']"
   ]
  },
  {
   "cell_type": "code",
   "execution_count": 10,
   "metadata": {},
   "outputs": [
    {
     "data": {
      "text/plain": [
       "'<table border=\"1\" class=\"dataframe\">\\n  <thead>\\n    <tr style=\"text-align: center;\">\\n      <th></th>\\n      <th>Value</th>\\n    </tr>\\n  </thead>\\n  <tbody>\\n    <tr>\\n      <th>Equatorial Diameter</th>\\n      <td>6,792 km</td>\\n    </tr>\\n    <tr>\\n      <th>Polar Diameter</th>\\n      <td>6,752 km</td>\\n    </tr>\\n    <tr>\\n      <th>Mass</th>\\n      <td>6.42 x 10^23 kg (10.7% Earth)</td>\\n    </tr>\\n    <tr>\\n      <th>Moons</th>\\n      <td>2 (Phobos &amp; Deimos)</td>\\n    </tr>\\n    <tr>\\n      <th>Orbit Distance</th>\\n      <td>227,943,824 km (1.52 AU)</td>\\n    </tr>\\n    <tr>\\n      <th>Orbit Period</th>\\n      <td>687 days (1.9 years)</td>\\n    </tr>\\n    <tr>\\n      <th>Surface Temperature</th>\\n      <td>-153 to 20 °C</td>\\n    </tr>\\n    <tr>\\n      <th>First Record</th>\\n      <td>2nd millennium BC</td>\\n    </tr>\\n    <tr>\\n      <th>Recorded By</th>\\n      <td>Egyptian astronomers</td>\\n    </tr>\\n  </tbody>\\n</table>'"
      ]
     },
     "execution_count": 10,
     "metadata": {},
     "output_type": "execute_result"
    }
   ],
   "source": [
    "df.to_html(border = '1', justify = 'center')"
   ]
  },
  {
   "cell_type": "code",
   "execution_count": 12,
   "metadata": {},
   "outputs": [],
   "source": [
    "hemisphere_image_urls = []\n",
    "for i in range(len(spheres)):\n",
    "    dic = {}\n",
    "    dic['title'] = titles[i]\n",
    "    dic['img_url'] = f'https://astropedia.astrogeology.usgs.gov/download/Mars/Viking/{spheres[i]}_enhanced.tif/full.jpg'\n",
    "    hemisphere_image_urls.append(dic)"
   ]
  },
  {
   "cell_type": "code",
   "execution_count": 14,
   "metadata": {},
   "outputs": [
    {
     "data": {
      "text/plain": [
       "[{'img_url': 'https://astropedia.astrogeology.usgs.gov/download/Mars/Viking/valles_marineris_enhanced.tif/full.jpg',\n",
       "  'title': 'Valles Marineris Hemisphere'},\n",
       " {'img_url': 'https://astropedia.astrogeology.usgs.gov/download/Mars/Viking/cerberus_enhanced.tif/full.jpg',\n",
       "  'title': 'Cerberus Hemisphere'},\n",
       " {'img_url': 'https://astropedia.astrogeology.usgs.gov/download/Mars/Viking/schiaparelli_enhanced.tif/full.jpg',\n",
       "  'title': 'Schiaparelli Hemisphere'},\n",
       " {'img_url': 'https://astropedia.astrogeology.usgs.gov/download/Mars/Viking/syrtis_major_enhanced.tif/full.jpg',\n",
       "  'title': 'Syrtis Major Hemisphere'}]"
      ]
     },
     "execution_count": 14,
     "metadata": {},
     "output_type": "execute_result"
    }
   ],
   "source": [
    "hemisphere_image_urls"
   ]
  },
  {
   "cell_type": "code",
   "execution_count": null,
   "metadata": {},
   "outputs": [],
   "source": []
  }
 ],
 "metadata": {
  "kernelspec": {
   "display_name": "Python 3",
   "language": "python",
   "name": "python3"
  },
  "language_info": {
   "codemirror_mode": {
    "name": "ipython",
    "version": 3
   },
   "file_extension": ".py",
   "mimetype": "text/x-python",
   "name": "python",
   "nbconvert_exporter": "python",
   "pygments_lexer": "ipython3",
   "version": "3.6.4"
  }
 },
 "nbformat": 4,
 "nbformat_minor": 2
}
